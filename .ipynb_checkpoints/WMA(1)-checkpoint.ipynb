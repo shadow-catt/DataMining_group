{
 "cells": [
  {
   "cell_type": "code",
   "execution_count": 9,
   "id": "78c3df8f",
   "metadata": {},
   "outputs": [],
   "source": [
    "import numpy as np\n",
    "from scipy import optimize\n",
    "def WMA(y, steps):\n",
    "    # Define weighting algorithm\n",
    "    def Weighting(param):\n",
    "        param = np.abs(param)/np.sum(np.abs(param))\n",
    "        yf=np.zeros(len(y))\n",
    "        e=np.zeros(len(y))\n",
    "        for i in range(q,len(y)):\n",
    "            # Give weight to the data\n",
    "            yf[i]=sum(param[0:(q-1)]*y[(i-q):(i-1)])\n",
    "            e[i]=y[i]-yf[i]\n",
    "        return np.log(np.sum(e**2))+(2*len(param)/len(y))\n",
    "    AIC=np.zeros(10)\n",
    "    pa=[]\n",
    "    for g in range(2,10):\n",
    "        q = g\n",
    "        # Find the minimize function\n",
    "        res = optimize.minimize(Weighting,np.repeat(1/q,q))\n",
    "        AIC[g]=res['x'][1]\n",
    "        pa.append(np.abs(res['x'][0]/np.sum(np.abs(res['x'][0]))))\n",
    "    q=np.argmin(AIC)\n",
    "    print()\n",
    "    param=pa[q-2]\n",
    "\n",
    "    return np.repeat(sum(param*y[(len(y)-q+1):(len(y)-1)]),steps)\n"
   ]
  },
  {
   "cell_type": "code",
   "execution_count": 17,
   "id": "a70d517a",
   "metadata": {},
   "outputs": [
    {
     "name": "stdout",
     "output_type": "stream",
     "text": [
      "61\n",
      "\n",
      "\n",
      "Testing MSE: 762.651\n",
      "\n",
      "Testing MDAE: 28.000\n",
      "\n",
      "Testing MSLE: 11.080\n",
      "\n",
      "Testing MAE: 27.199\n",
      "\n",
      "Testing EVS: 0.000\n",
      "\n",
      "Testing R2: -32.355\n"
     ]
    }
   ],
   "source": [
    "import pandas as pd\n",
    "from sklearn.preprocessing import MinMaxScaler\n",
    "import numpy as np\n",
    "from sklearn.model_selection import train_test_split\n",
    "from sklearn.metrics import mean_squared_error,mean_squared_log_error,median_absolute_error,mean_absolute_error,precision_score,r2_score,explained_variance_score\n",
    "scaler = MinMaxScaler(feature_range = (0,1))\n",
    "\n",
    "# Read the file\n",
    "df = pd.read_csv('海尔智家.csv')\n",
    "\n",
    "# Process the file\n",
    "X = df\n",
    "X.drop('交易日期', axis = 1, inplace = True)\n",
    "X = X.values\n",
    "y = df.收盘价\n",
    "y = y.values\n",
    "\n",
    "X_train, X_test, y_train, y_test = train_test_split(X, y, random_state = 1)\n",
    "\n",
    "print(len(y_test))\n",
    "y_pred = WMA(y_train,61)\n",
    "\n",
    "# Examine to model\n",
    "mse = mean_squared_error(y_test,y_pred)\n",
    "mdae = median_absolute_error(y_test, y_pred)\n",
    "msle = mean_squared_log_error(y_test, y_pred)\n",
    "mae = mean_absolute_error(y_test, y_pred)\n",
    "evs=explained_variance_score(y_test, y_pred) \n",
    "r2 = r2_score(y_test, y_pred)\n",
    "print(\"\\nTesting MSE: {:.3f}\".format(mse))\n",
    "print(\"\\nTesting MDAE: {:.3f}\".format(mdae))\n",
    "print(\"\\nTesting MSLE: {:.3f}\".format(msle))\n",
    "print(\"\\nTesting MAE: {:.3f}\".format(mae))\n",
    "print(\"\\nTesting EVS: {:.3f}\".format(evs))\n",
    "print(\"\\nTesting R2: {:.3f}\".format(r2))"
   ]
  },
  {
   "cell_type": "code",
   "execution_count": null,
   "id": "6a6dc568",
   "metadata": {},
   "outputs": [],
   "source": []
  }
 ],
 "metadata": {
  "kernelspec": {
   "display_name": "Python 3",
   "language": "python",
   "name": "python3"
  },
  "language_info": {
   "codemirror_mode": {
    "name": "ipython",
    "version": 3
   },
   "file_extension": ".py",
   "mimetype": "text/x-python",
   "name": "python",
   "nbconvert_exporter": "python",
   "pygments_lexer": "ipython3",
   "version": "3.8.8"
  }
 },
 "nbformat": 4,
 "nbformat_minor": 5
}
