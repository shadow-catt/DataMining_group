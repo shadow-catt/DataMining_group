{
 "cells": [
  {
   "cell_type": "code",
   "execution_count": 8,
   "id": "13750682",
   "metadata": {},
   "outputs": [],
   "source": [
    "import numpy as np\n",
    "import pandas as pd\n",
    "import matplotlib.pyplot as plt\n",
    "from lightgbm import LGBMRegressor\n",
    "from sklearn.preprocessing import MinMaxScaler\n",
    "\n",
    "scaler = MinMaxScaler(feature_range = (0,1))\n",
    "\n",
    "# Read the file\n",
    "df = pd.read_csv('海尔智家.csv')\n",
    "\n",
    "df.index = df['交易日期']\n",
    "\n",
    "# Sort the file by ascending\n",
    "data = df.sort_index(ascending = True, axis = 0)\n",
    "\n",
    "# Create a new data set to do the separation\n",
    "new_data = pd.DataFrame(index = range(0,len(df)), columns = {\n",
    "    '开盘价','最高价','最低价','收盘价','成交数量(股)','成交金额(元)'})\n",
    "for i in range(0,len(data)):\n",
    "    new_data['开盘价'][i] = data['开盘价'][i]\n",
    "    new_data['最高价'][i] = data['最高价'][i]\n",
    "    new_data['最低价'][i] = data['最低价'][i]\n",
    "    new_data['收盘价'][i] = data['收盘价'][i]\n",
    "    new_data['成交数量(股)'][i] = data['成交数量(股)'][i]\n",
    "    new_data['成交金额(元)'][i] = data['成交金额(元)'][i]\n",
    "train = new_data[:206]\n",
    "valid = new_data[206:227]\n",
    "\n",
    "x_train = train.drop('收盘价', axis = 1)\n",
    "y_train = train['收盘价']\n",
    "x_valid = valid.drop('收盘价', axis = 1)\n",
    "y_valid = valid['收盘价']"
   ]
  },
  {
   "cell_type": "code",
   "execution_count": 13,
   "id": "7a83f1e9",
   "metadata": {},
   "outputs": [
    {
     "name": "stdout",
     "output_type": "stream",
     "text": [
      "61\n",
      "\n",
      "Testing MSE: 1.391\n",
      "\n",
      "Testing MDAE: 0.373\n",
      "\n",
      "Testing MSLE: 0.003\n",
      "\n",
      "Testing MAE: 0.662\n",
      "\n",
      "Testing EVS: 0.939\n",
      "\n",
      "Testing R2: 0.939\n"
     ]
    }
   ],
   "source": [
    "from sklearn import neighbors\n",
    "from sklearn.model_selection import GridSearchCV\n",
    "from sklearn.preprocessing import MinMaxScaler\n",
    "from sklearn.model_selection import train_test_split\n",
    "from sklearn.metrics import mean_squared_error,mean_squared_log_error,median_absolute_error,mean_absolute_error,precision_score,r2_score,explained_variance_score\n",
    "\n",
    "scaler = MinMaxScaler(feature_range = (0,1))\n",
    "\n",
    "# Scale the data\n",
    "x_train_scaled = scaler.fit_transform(x_train)\n",
    "x_train = pd.DataFrame(x_train_scaled)\n",
    "x_valid_scaled = scaler.fit_transform(x_valid)\n",
    "x_valid = pd.DataFrame(x_valid_scaled)\n",
    "\n",
    "# Read file\n",
    "df = pd.read_csv('海尔智家.csv')\n",
    "#get_technical_indicators(df)\n",
    "df = df.fillna(0)\n",
    "X = df\n",
    "X.drop('交易日期', axis = 1, inplace = True)\n",
    "y = df.收盘价\n",
    "y = y.values\n",
    "X.drop('收盘价', axis = 1, inplace = True)\n",
    "X = X.values\n",
    "\n",
    "X_train, X_test, y_train, y_test = train_test_split(X, y, random_state = 1)\n",
    "\n",
    "print(len(y_test))\n",
    "model = LGBMRegressor(random_state = 1)\n",
    "model.fit(X_train, y_train)\n",
    "y_pred = model.predict(X_test)\n",
    "mse = mean_squared_error(y_test,y_pred)\n",
    "mdae = median_absolute_error(y_test, y_pred)\n",
    "msle = mean_squared_log_error(y_test, y_pred)\n",
    "mae = mean_absolute_error(y_test, y_pred)\n",
    "evs=explained_variance_score(y_test, y_pred) \n",
    "r2 = r2_score(y_test, y_pred)\n",
    "print(\"\\nTesting MSE: {:.3f}\".format(mse))\n",
    "print(\"\\nTesting MDAE: {:.3f}\".format(mdae))\n",
    "print(\"\\nTesting MSLE: {:.3f}\".format(msle))\n",
    "print(\"\\nTesting MAE: {:.3f}\".format(mae))\n",
    "print(\"\\nTesting EVS: {:.3f}\".format(evs))\n",
    "print(\"\\nTesting R2: {:.3f}\".format(r2))"
   ]
  },
  {
   "cell_type": "code",
   "execution_count": null,
   "id": "4f3f0d91",
   "metadata": {},
   "outputs": [],
   "source": []
  }
 ],
 "metadata": {
  "kernelspec": {
   "display_name": "Python 3",
   "language": "python",
   "name": "python3"
  },
  "language_info": {
   "codemirror_mode": {
    "name": "ipython",
    "version": 3
   },
   "file_extension": ".py",
   "mimetype": "text/x-python",
   "name": "python",
   "nbconvert_exporter": "python",
   "pygments_lexer": "ipython3",
   "version": "3.8.8"
  }
 },
 "nbformat": 4,
 "nbformat_minor": 5
}
